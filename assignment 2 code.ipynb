{
 "cells": [
  {
   "cell_type": "markdown",
   "id": "6b0173fb",
   "metadata": {},
   "source": [
    "## What is Value Iteration?\n",
    "Value Iteration is like a magic trick that helps you figure out the best moves to make in the game. It tells you which room to go to from every room to collect the most treasures over time. Here's how it works:\n",
    "\n",
    "### Value of Each Room (State): \n",
    "First, we imagine the value of being in each room. At the start, we might say every room has a value of zero.\n",
    "\n",
    "### Updating Values: \n",
    "We keep updating these values based on the rewards we get and the chances of moving to other rooms. We look at all possible actions from each room and calculate how good it is to move to other rooms, considering the treasures we can get there.\n",
    "\n",
    "### Best Move (Policy): \n",
    "After updating the values many times, we can decide the best action (move) to take from each room. This action is the one that leads to the highest value room.\n",
    "\n",
    "### Repeat Until Done: \n",
    "We repeat the updating process until the values stop changing much. This means we've found the best way to move around the rooms to get the most treasures.\n",
    "\n",
    "## Example\n",
    "Let's say you are in a maze, and you want to find the shortest path to the exit. You can move up, down, left, or right. Some paths might have traps, and some might lead you closer to the exit.\n",
    "\n",
    "+ Start with Zero Values: At first, you think every position in the maze has zero value.\n",
    "\n",
    "+ Update Values: You keep trying different paths and updating the value of each position based on how close it gets you to the exit (more treasures).\n",
    "\n",
    "+ Find the Best Move: After trying enough times, you know which move to make from each position to get to the exit the fastest.\n",
    "\n",
    "+ Repeat: You keep doing this until you’re sure of the best moves from every position.\n",
    "\n",
    "+ In the end, Value Iteration helps you find the shortest and best path to the exit by figuring out the value of being in each position and the best move to make from there."
   ]
  },
  {
   "cell_type": "code",
   "execution_count": null,
   "id": "c62d2a45",
   "metadata": {},
   "outputs": [],
   "source": [
    "import numpy as np"
   ]
  },
  {
   "cell_type": "code",
   "execution_count": null,
   "id": "1998bc67",
   "metadata": {},
   "outputs": [],
   "source": [
    "def value_iteration(mdp_file):\n",
    "    with open(mdp_file, 'r') as file:\n",
    "        lines = file.readlines()\n",
    "    \n",
    "    S = int(lines[0].split()[1])\n",
    "    A = int(lines[1].split()[1])\n",
    "    gamma = float(lines[-1].split()[1])\n",
    "    transitions = [line.split() for line in lines[4:-2]]\n",
    "\n",
    "    V = np.zeros(S)\n",
    "    policy = np.zeros(S, dtype=int)\n",
    "    theta = 1e-10\n",
    "    while True:\n",
    "        delta = 0\n",
    "        for s in range(S):\n",
    "            v = V[s]\n",
    "            Q = np.zeros(A)\n",
    "            for t in transitions:\n",
    "                if int(t[0]) == s:\n",
    "                    Q[int(t[1])] += float(t[4]) * (float(t[3]) + gamma * V[int(t[2])])\n",
    "            V[s] = np.max(Q)\n",
    "            delta = max(delta, abs(v - V[s]))\n",
    "            policy[s] = np.argmax(Q)\n",
    "        if delta < theta:\n",
    "            break\n",
    "    \n",
    "    return V, policy\n"
   ]
  },
  {
   "cell_type": "code",
   "execution_count": null,
   "id": "36ea8e43",
   "metadata": {},
   "outputs": [],
   "source": [
    "mdp_file_path = 'path_to_mdp_file.txt'\n",
    "optimal_value_function, optimal_policy = value_iteration(mdp_file_path)\n",
    "print(\"Optimal Value Function:\", optimal_value_function)\n",
    "print(\"Optimal Policy:\", optimal_policy)\n"
   ]
  }
 ],
 "metadata": {
  "kernelspec": {
   "display_name": "Python 3 (ipykernel)",
   "language": "python",
   "name": "python3"
  },
  "language_info": {
   "codemirror_mode": {
    "name": "ipython",
    "version": 3
   },
   "file_extension": ".py",
   "mimetype": "text/x-python",
   "name": "python",
   "nbconvert_exporter": "python",
   "pygments_lexer": "ipython3",
   "version": "3.11.5"
  }
 },
 "nbformat": 4,
 "nbformat_minor": 5
}
